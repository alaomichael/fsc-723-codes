{
 "cells": [
  {
   "metadata": {},
   "cell_type": "raw",
   "source": "",
   "id": "ef2b24a7655c282e"
  },
  {
   "metadata": {},
   "cell_type": "markdown",
   "source": [
    "Multiplying one or two-digit number y by 11 is very simple. All we need to do first is to add the\n",
    "two digits of y together. If the sum is less or equal to 9, put the sum in between the two digits to\n",
    "get the answer. For instance, to compute 08 X 11, 0 + 8 = 8, answer = 088. Now given 26 X\n",
    "11; 2 + 6 = 8, answer = 286. The sum, 8 is put in between 2 and 6 to get the answer.\n",
    "However, if the sum is greater or equal to 10, subtract the sum from 10 to get the middle value,\n",
    "add 1 to the first digit of y. The final result will now be newFirstDigit followed by midValue and\n",
    "finally followed by the last Digit of y. For instance, given 49 X 11; 4 + 9 = 13, which is greater\n",
    "than 10. Then, to get the midValue, 13 - 10 = 3, Add 1 to 4 to get the newFirstDigit (= 5). The\n",
    "final answer becomes 539.\n",
    "Write a Program to multiply any one or two-digit number by 11."
   ],
   "id": "713051bfcdfb3de4"
  },
  {
   "metadata": {
    "ExecuteTime": {
     "end_time": "2025-09-01T16:25:59.454770Z",
     "start_time": "2025-09-01T16:25:54.054548Z"
    }
   },
   "cell_type": "code",
   "source": [
    "## Answer\n",
    "y = int(input(\"Enter a 1 or 2-digit number: \"))\n",
    "# Convert to string to work with digits, pad with zero if single digit\n",
    "y_str = str(y).zfill(2)\n",
    "first_digit = int(y_str[0])\n",
    "last_digit = int(y_str[1])\n",
    "# Add the two digits\n",
    "digit_sum = first_digit + last_digit\n",
    "print(f\"First digit: {first_digit}, Last digit: {last_digit}\")\n",
    "print(f\"Sum of digits: {digit_sum}\")\n",
    "# Apply the multiplication rule\n",
    "if digit_sum <= 9:\n",
    "# Put sum between the two digits\n",
    "    result = int(str(first_digit) + str(digit_sum) + str(last_digit))\n",
    "    print(f\"Since sum <= 9, put sum between digits\")\n",
    "else:\n",
    "# Sum >= 10: subtract 10 from sum for middle, add 1 to first digit\n",
    "    mid_value = digit_sum - 10\n",
    "    new_first_digit = first_digit + 1\n",
    "    result = int(str(new_first_digit) + str(mid_value) + str(last_digit))\n",
    "    print(f\"Since sum >= 10, middle value = {digit_sum} - 10 = {mid_value}\")\n",
    "    print(f\"New first digit = {first_digit} + 1 = {new_first_digit}\")\n",
    "print(f\"Final Answer: {y} × 11 = {result}\")"
   ],
   "id": "c234f4305628bb9f",
   "outputs": [
    {
     "name": "stdout",
     "output_type": "stream",
     "text": [
      "First digit: 7, Last digit: 7\n",
      "Sum of digits: 14\n",
      "Since sum >= 10, middle value = 14 - 10 = 4\n",
      "New first digit = 7 + 1 = 8\n",
      "Final Answer: 77 × 11 = 847\n"
     ]
    }
   ],
   "execution_count": 7
  },
  {
   "metadata": {},
   "cell_type": "markdown",
   "source": [
    "Five candidates (Taiwo, Kenny, Usman, Nkechi, and Ofure) took part in a University Entrance\n",
    "Examination comprising of four Subjects (English, Mathematics, Physics and Chemistry. The\n",
    "scores obtained in each of the subjects are depicted below:\n",
    "Eng Maths Phy Chem\n",
    "Taiwo 56 43 57 60\n",
    "Kenny 76 56 67 68\n",
    "Usman 47 38 75 59\n",
    "Nkechi 37 49 64 58\n",
    "Ofure 58 75 57 60\n",
    "Write codes to print out\n",
    "(i) Average or mean score per student [5 marks]\n",
    "(ii) The maximum score [5 marks]\n",
    "(iii) The student and the Subject with the maximum score [5 marks]\n",
    "(iv) The number of students that score the mean score and above [5 marks]"
   ],
   "id": "8d1d1be4b956b037"
  },
  {
   "metadata": {
    "ExecuteTime": {
     "end_time": "2025-09-01T17:29:39.357459Z",
     "start_time": "2025-09-01T17:29:39.313356Z"
    }
   },
   "cell_type": "code",
   "source": [
    "# Student data\n",
    "students = [\"Taiwo\", \"Kenny\", \"Usman\", \"Nkechi\", \"Ofure\"]\n",
    "subjects = [\"English\", \"Maths\", \"Physics\", \"Chemistry\"]\n",
    "\n",
    "scores = [\n",
    "    [56,43,57,60], # Taiwo\n",
    "    [76,56,67,68], # Kenny\n",
    "    [47,38,75,59], # Usman\n",
    "    [37,49,64,58], # Nkechi\n",
    "    [58,75,57,60] # Ofure\n",
    "]\n",
    "\n",
    "print(\"Student Score Data\")\n",
    "print(\"Name\\t\\tEng\\t\\tMaths\\tPhy\\t\\tChem\")\n",
    "print(\"-\" * 45)\n",
    "\n",
    "for i in range(len(students)):\n",
    "   print(f\"{students[i]}\\t\\t{scores[i][0]}\\t\\t{scores[i][1]}\\t\\t{scores[i][2]}\\t\\t{scores[i][3]}\")\n",
    "\n",
    "# (i) Average score per student\n",
    "student_averages = []\n",
    "for i in range(len(students)):\n",
    "    total = sum(scores[i])\n",
    "    average = total / len(subjects)\n",
    "    student_averages.append(average)\n",
    "    print(f\"{students[i]}: Total = {total}, Average = {average:.2f}\")\n",
    "\n",
    "# (ii) The maximum score\n",
    "max_score = 0\n",
    "for row in scores:\n",
    "    for score in row:\n",
    "        if score > max_score:\n",
    "            max_score = score\n",
    "    print(f\"Maximum score: {max_score}\")\n",
    "\n",
    "# (iii) Student and subject with maximum score\n",
    "print(\"\\n(iii) Student and subject with maximum score\")\n",
    "max_student = \"\"\n",
    "max_subject = \"\"\n",
    "for i in range(len(students)):\n",
    "    for j in range(len(subjects)):\n",
    "        if scores[i][j] == max_score:\n",
    "            max_student = students[i]\n",
    "            max_subject = subjects[j]\n",
    "print(f\"Student: {max_student}, Subject: {max_subject}\")\n",
    "\n",
    "# (iv) Students scoring mean and above\n",
    "overall_mean = sum(student_averages)/len(student_averages)\n",
    "count_above_mean = 0\n",
    "print(f\"\\n(iv) Overall mean score: {overall_mean:.2f}\")\n",
    "print(\"Students scoring mean and above:\")\n",
    "for i in range(len(students)):\n",
    "    if student_averages[i] >= overall_mean:\n",
    "        count_above_mean += 1\n",
    "        print(f\" {students[i]}: {student_averages[i]:.2f}\")\n",
    "print(f\"Total students scoring mean and above: {count_above_mean}\")"
   ],
   "id": "7d882312ebaa7722",
   "outputs": [
    {
     "name": "stdout",
     "output_type": "stream",
     "text": [
      "Student Score Data\n",
      "Name\t\tEng\t\tMaths\tPhy\t\tChem\n",
      "---------------------------------------------\n",
      "Taiwo\t\t56\t\t43\t\t57\t\t60\n",
      "Kenny\t\t76\t\t56\t\t67\t\t68\n",
      "Usman\t\t47\t\t38\t\t75\t\t59\n",
      "Nkechi\t\t37\t\t49\t\t64\t\t58\n",
      "Ofure\t\t58\t\t75\t\t57\t\t60\n",
      "Taiwo: Total = 216, Average = 54.00\n",
      "Kenny: Total = 267, Average = 66.75\n",
      "Usman: Total = 219, Average = 54.75\n",
      "Nkechi: Total = 208, Average = 52.00\n",
      "Ofure: Total = 250, Average = 62.50\n",
      "Maximum score: 60\n",
      "Maximum score: 76\n",
      "Maximum score: 76\n",
      "Maximum score: 76\n",
      "Maximum score: 76\n",
      "\n",
      "(iii) Student and subject with maximum score\n",
      "Student: Kenny, Subject: English\n",
      "\n",
      "(iv) Overall mean score: 58.00\n",
      "Students scoring mean and above:\n",
      " Kenny: 66.75\n",
      " Ofure: 62.50\n",
      "Total students scoring mean and above: 2\n"
     ]
    }
   ],
   "execution_count": 17
  },
  {
   "metadata": {},
   "cell_type": "code",
   "outputs": [],
   "execution_count": null,
   "source": "",
   "id": "fcced4042323e93a"
  }
 ],
 "metadata": {
  "kernelspec": {
   "display_name": "Python 3",
   "language": "python",
   "name": "python3"
  },
  "language_info": {
   "codemirror_mode": {
    "name": "ipython",
    "version": 2
   },
   "file_extension": ".py",
   "mimetype": "text/x-python",
   "name": "python",
   "nbconvert_exporter": "python",
   "pygments_lexer": "ipython2",
   "version": "2.7.6"
  }
 },
 "nbformat": 4,
 "nbformat_minor": 5
}
