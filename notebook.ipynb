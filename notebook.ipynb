{
 "cells": [
  {
   "metadata": {},
   "cell_type": "raw",
   "source": "",
   "id": "ef2b24a7655c282e"
  },
  {
   "metadata": {},
   "cell_type": "markdown",
   "source": [
    "Multiplying one or two-digit number y by 11 is very simple. All we need to do first is to add the\n",
    "two digits of y together. If the sum is less or equal to 9, put the sum in between the two digits to\n",
    "get the answer. For instance, to compute 08 X 11, 0 + 8 = 8, answer = 088. Now given 26 X\n",
    "11; 2 + 6 = 8, answer = 286. The sum, 8 is put in between 2 and 6 to get the answer.\n",
    "However, if the sum is greater or equal to 10, subtract the sum from 10 to get the middle value,\n",
    "add 1 to the first digit of y. The final result will now be newFirstDigit followed by midValue and\n",
    "finally followed by the last Digit of y. For instance, given 49 X 11; 4 + 9 = 13, which is greater\n",
    "than 10. Then, to get the midValue, 13 - 10 = 3, Add 1 to 4 to get the newFirstDigit (= 5). The\n",
    "final answer becomes 539.\n",
    "Write a Program to multiply any one or two-digit number by 11."
   ],
   "id": "713051bfcdfb3de4"
  },
  {
   "metadata": {
    "ExecuteTime": {
     "end_time": "2025-09-01T15:55:22.087141Z",
     "start_time": "2025-09-01T15:55:13.780661Z"
    }
   },
   "cell_type": "code",
   "source": [
    "## Answer\n",
    "y = int(input(\"Enter a 1 or 2-digit number: \"))\n",
    "# Convert to string to work with digits, pad with zero if single digit\n",
    "y_str = str(y).zfill(2)\n",
    "first_digit = int(y_str[0])\n",
    "last_digit = int(y_str[1])\n",
    "# Add the two digits\n",
    "digit_sum = first_digit + last_digit\n",
    "print(f\"First digit: {first_digit}, Last digit: {last_digit}\")\n",
    "print(f\"Sum of digits: {digit_sum}\")\n",
    "# Apply the multiplication rule\n",
    "if digit_sum <= 9:\n",
    "# Put sum between the two digits\n",
    "    result = int(str(first_digit) + str(digit_sum) + str(last_digit))\n",
    "    print(f\"Since sum <= 9, put sum between digits\")\n",
    "else:\n",
    "# Sum >= 10: subtract 10 from sum for middle, add 1 to first digit\n",
    "    mid_value = digit_sum - 10\n",
    "    new_first_digit = first_digit + 1\n",
    "    result = int(str(new_first_digit) + str(mid_value) + str(last_digit))\n",
    "    print(f\"Since sum >= 10, middle value = {digit_sum} - 10 = {mid_value}\")\n",
    "    print(f\"New first digit = {first_digit} + 1 = {new_first_digit}\")\n",
    "print(f\"Final Answer: {y} × 11 = {result}\")"
   ],
   "id": "c234f4305628bb9f",
   "outputs": [
    {
     "name": "stdout",
     "output_type": "stream",
     "text": [
      "First digit: 9, Last digit: 9\n",
      "Sum of digits: 18\n",
      "Since sum >= 10, middle value = 18 - 10 = 8\n",
      "New first digit = 9 + 1 = 10\n",
      "Final Answer: 99 × 11 = 1089\n"
     ]
    }
   ],
   "execution_count": 5
  },
  {
   "metadata": {},
   "cell_type": "code",
   "outputs": [],
   "execution_count": null,
   "source": "",
   "id": "7d882312ebaa7722"
  }
 ],
 "metadata": {
  "kernelspec": {
   "display_name": "Python 3",
   "language": "python",
   "name": "python3"
  },
  "language_info": {
   "codemirror_mode": {
    "name": "ipython",
    "version": 2
   },
   "file_extension": ".py",
   "mimetype": "text/x-python",
   "name": "python",
   "nbconvert_exporter": "python",
   "pygments_lexer": "ipython2",
   "version": "2.7.6"
  }
 },
 "nbformat": 4,
 "nbformat_minor": 5
}
