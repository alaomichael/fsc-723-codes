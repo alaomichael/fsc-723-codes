{
 "cells": [
  {
   "metadata": {},
   "cell_type": "raw",
   "source": [
    "Five candidates (Taiwo, Kenny, Usman, Nkechi, and Ofure) took part in a University Entrance\n",
    "Examination comprising of four Subjects (English, Mathematics, Physics and Chemistry. The\n",
    "scores obtained in each of the subjects are depicted below:\n",
    "Eng Maths Phy Chem\n",
    "Taiwo 56 43 57 60\n",
    "Kenny 76 56 67 68\n",
    "Usman 47 38 75 59\n",
    "Nkechi 37 49 64 58\n",
    "Ofure 58 75 57 60\n",
    "Write codes to print out\n",
    "(i) Average or mean score per student [5 marks]\n",
    "(ii) The maximum score [5 marks]\n",
    "(iii) The student and the Subject with the maximum score [5 marks]\n",
    "(iv) The number of students that score the mean score and above [5 marks]"
   ],
   "id": "ccb81b59c25dc820"
  },
  {
   "metadata": {
    "jupyter": {
     "is_executing": true
    }
   },
   "cell_type": "code",
   "source": [
    "# Student data\n",
    "students = [\"Taiwo\", \"Kenny\", \"Usman\", \"Nkechi\", \"Ofure\"]\n",
    "subjects = [\"English\", \"Maths\", \"Physics\", \"Chemistry\"]\n",
    "\n",
    "scores = [\n",
    "    [56,43,57,60], # Taiwo\n",
    "    [76,56,67,68], # Kenny\n",
    "    [47,38,75,59], # Usman\n",
    "    [37,49,64,58], # Nkechi\n",
    "    [58,75,57,60] # Ofure\n",
    "]\n",
    "\n",
    "print(\"Student Score Data\")\n",
    "print(\"Name\\t\\tEnglish\\tMaths\\tPhy\\tChem\")\n",
    "print(\"-\" * 45)\n",
    "\n",
    "for i in range(len(students)):\n",
    "   print(f\"{students[i]}\\t\\t{scores[i][0]}\\t{scores[i][1]}\\t{scores[i][2]}\\t{scores[i][3]}\")"
   ],
   "id": "fcfa7d6f8e53582f",
   "outputs": [],
   "execution_count": null
  },
  {
   "metadata": {},
   "cell_type": "code",
   "outputs": [],
   "execution_count": null,
   "source": "",
   "id": "869a7976bc10073"
  }
 ],
 "metadata": {
  "kernelspec": {
   "display_name": "Python 3",
   "language": "python",
   "name": "python3"
  },
  "language_info": {
   "codemirror_mode": {
    "name": "ipython",
    "version": 2
   },
   "file_extension": ".py",
   "mimetype": "text/x-python",
   "name": "python",
   "nbconvert_exporter": "python",
   "pygments_lexer": "ipython2",
   "version": "2.7.6"
  }
 },
 "nbformat": 4,
 "nbformat_minor": 5
}
